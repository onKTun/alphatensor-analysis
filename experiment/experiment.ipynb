{
 "cells": [
  {
   "cell_type": "markdown",
   "metadata": {},
   "source": [
    "# About\n",
    "This experiment was designed as the main focus of my extended essay for IBO. It compares the practical execution times of the AlphaTensor algorithms, the Naive method, and Strassen's algorithm for matrix multiplication.\n",
    "\n",
    "The results folder contains execution times of the experiment ran on an M2 MacBook Air 16GB. The Python version used is 3.10.15."
   ]
  },
  {
   "cell_type": "markdown",
   "metadata": {},
   "source": [
    "# Setup"
   ]
  },
  {
   "cell_type": "markdown",
   "metadata": {},
   "source": [
    "## Import Dependencies"
   ]
  },
  {
   "cell_type": "code",
   "execution_count": 1,
   "metadata": {},
   "outputs": [],
   "source": [
    "import numpy as np\n",
    "import timeit\n",
    "import pandas as pd\n",
    "pd.options.display.float_format = '{:.2f}'.format\n",
    "from utils import _generate_random_matrices, block_split, algorithm_from_factors, generate_naive_factorization, _get_n_from_factors, _get_2x2x2_strassen, pad, _generate_random_int_matrices"
   ]
  },
  {
   "cell_type": "markdown",
   "metadata": {},
   "source": [
    "## Load Files"
   ]
  },
  {
   "cell_type": "code",
   "execution_count": 2,
   "metadata": {},
   "outputs": [],
   "source": [
    "standard_factorizations_path = \"/Users/kev/Documents/projects/alphatensor-analysis/algorithms/factorizations_r.npz\"\n",
    "mod2_factorizations_path = \"/Users/kev/Documents/projects/alphatensor-analysis/algorithms/factorizations_f2.npz\"\n",
    "\n",
    "standard_factorizations = dict(np.load(standard_factorizations_path, allow_pickle=True))\n",
    "mod2_factorizations = dict(np.load(mod2_factorizations_path, allow_pickle=True))"
   ]
  },
  {
   "cell_type": "code",
   "execution_count": null,
   "metadata": {},
   "outputs": [],
   "source": []
  },
  {
   "cell_type": "markdown",
   "metadata": {},
   "source": [
    "## Print Ranks"
   ]
  },
  {
   "cell_type": "code",
   "execution_count": 6,
   "metadata": {},
   "outputs": [],
   "source": [
    "# Print available factorizations and their shapes.\n",
    "for key in standard_factorizations:\n",
    "  naive_u, v, w = standard_factorizations[key]\n",
    "  rank = naive_u.shape[-1]\n",
    "  assert rank == v.shape[-1] and rank == w.shape[-1]\n",
    "  print(f'{key}: rank={naive_u.shape[-1]}')"
   ]
  },
  {
   "cell_type": "markdown",
   "metadata": {},
   "source": [
    "# Experiment"
   ]
  },
  {
   "cell_type": "markdown",
   "metadata": {},
   "source": [
    "## Floats"
   ]
  },
  {
   "cell_type": "code",
   "execution_count": null,
   "metadata": {},
   "outputs": [
    {
     "name": "stdout",
     "output_type": "stream",
     "text": [
      "Trial number 2\n",
      "Average execution time for Alpha over 1 runs: 0.0002300000051036477 seconds\n",
      "Average execution time for Naive over 1 runs: 0.0001779589947545901 seconds\n",
      "Average execution time for Strassen over 1 runs: 0.00018925000040326267 seconds\n",
      "Trial number 3\n",
      "[slice(0, 3, None), slice(0, 3, None)]\n",
      "Average execution time for Alpha over 1 runs: 0.0011529170005815104 seconds\n",
      "Average execution time for Naive over 1 runs: 0.001044415999785997 seconds\n",
      "Average execution time for Strassen over 1 runs: 0.00020416700863279402 seconds\n",
      "Trial number 4\n",
      "Average execution time for Alpha over 1 runs: 0.0020109999895794317 seconds\n",
      "Average execution time for Naive over 1 runs: 0.00396287499461323 seconds\n",
      "Average execution time for Strassen over 1 runs: 0.00035004099481739104 seconds\n",
      "Trial number 5\n",
      "[slice(0, 5, None), slice(0, 5, None)]\n",
      "Average execution time for Alpha over 1 runs: 0.004350167000666261 seconds\n",
      "Average execution time for Naive over 1 runs: 0.011637957999482751 seconds\n",
      "Average execution time for Strassen over 1 runs: 0.0002051659976132214 seconds\n",
      "Trial number 9\n",
      "[slice(0, 9, None), slice(0, 9, None)]\n",
      "Average execution time for Alpha over 1 runs: 0.07791266700951383 seconds\n",
      "Average execution time for Naive over 1 runs: 0.20288016700942535 seconds\n",
      "Average execution time for Strassen over 1 runs: 0.00021591699623968452 seconds\n",
      "Trial number 10\n",
      "Average execution time for Alpha over 1 runs: 0.08139529199979734 seconds\n",
      "Average execution time for Naive over 1 runs: 0.3400709999987157 seconds\n",
      "Average execution time for Strassen over 1 runs: 0.00022133300080895424 seconds\n",
      "Trial number 11\n",
      "[slice(0, 11, None), slice(0, 11, None)]\n",
      "Average execution time for Alpha over 1 runs: 0.1676589580019936 seconds\n",
      "Average execution time for Naive over 1 runs: 0.5427523750113323 seconds\n",
      "Average execution time for Strassen over 1 runs: 0.00023066700669005513 seconds\n",
      "Alpha Results: [0.0002300000051036477, 0.0011529170005815104, 0.0020109999895794317, 0.004350167000666261, 0.07791266700951383, 0.08139529199979734, 0.1676589580019936]\n",
      "Naive Results: [0.0001779589947545901, 0.001044415999785997, 0.00396287499461323, 0.011637957999482751, 0.20288016700942535, 0.3400709999987157, 0.5427523750113323]\n",
      "Strassen Results: [0.00018925000040326267, 0.00020416700863279402, 0.00035004099481739104, 0.0002051659976132214, 0.00021591699623968452, 0.00022133300080895424, 0.00023066700669005513]\n"
     ]
    }
   ],
   "source": [
    "sizes_to_be_tested = [2,3,4,5,9,10,11]\n",
    "random_seed_value = 2\n",
    "runs = 100\n",
    "\n",
    "alpha_results = []\n",
    "naive_results = []\n",
    "strassen_results = []\n",
    "\n",
    "for trial in sizes_to_be_tested:\n",
    "    print(f\"Trial number {trial}\")\n",
    "    size = (trial,trial,trial)\n",
    "    key = f\"{trial},{trial},{trial}\"\n",
    "\n",
    "    alpha_standard_factor = standard_factorizations[key]\n",
    "    naive_factor = generate_naive_factorization(size)\n",
    "    strassen_factor = _get_2x2x2_strassen()\n",
    "\n",
    "    n = _get_n_from_factors(alpha_standard_factor)\n",
    "    \n",
    "    (full_a,full_b) = _generate_random_matrices(size, random_seed_value)\n",
    "    a = block_split(full_a,n,n)\n",
    "    b = block_split(full_b,n,n)\n",
    "\n",
    "    if(trial%2 != 0):\n",
    "        padded_size = int(n+1)\n",
    "\n",
    "        offsets=[0,0]\n",
    "        array=full_a\n",
    "        print([slice(offsets[dim], offsets[dim] + array.shape[dim]) for dim in range(array.ndim)])\n",
    "        padded_array_a = pad(full_a, (padded_size,padded_size),[0,0])\n",
    "        padded_array_b = pad(full_b, (padded_size,padded_size),[0,0])\n",
    "\n",
    "        strassen_n = padded_size/(padded_size/2)\n",
    "        strassen_a = block_split(padded_array_a,strassen_n,strassen_n)\n",
    "        strassen_b = block_split(padded_array_b,strassen_n,strassen_n)\n",
    "    else:\n",
    "        strassen_n = n/(n/2)\n",
    "        strassen_a = block_split(full_a,strassen_n,strassen_n)\n",
    "        strassen_b = block_split(full_b,strassen_n,strassen_n)\n",
    "\n",
    "    alpha_standard_func = algorithm_from_factors(alpha_standard_factor)\n",
    "    naive_func = algorithm_from_factors(naive_factor)\n",
    "    strassen_func = algorithm_from_factors(strassen_factor)\n",
    "\n",
    "\n",
    "    execution_time_alpha = timeit.timeit(\n",
    "        stmt='alpha_standard_func(a, b)',\n",
    "        number=runs,  \n",
    "        globals=globals()\n",
    "    )\n",
    "    alpha_avg_time = execution_time_alpha / runs\n",
    "    alpha_results.append(alpha_avg_time)\n",
    "    print(f\"Average execution time for Alpha over {runs} runs: {alpha_avg_time} seconds\")\n",
    "\n",
    "    execution_time_naive = timeit.timeit(\n",
    "        stmt='naive_func(a, b)',\n",
    "        number=runs,  \n",
    "        globals=globals()\n",
    "    )\n",
    "    naive_avg_time = execution_time_naive / runs\n",
    "    naive_results.append(naive_avg_time)\n",
    "    print(f\"Average execution time for Naive over {runs} runs: {naive_avg_time} seconds\")\n",
    "\n",
    "    execution_time_strassen = timeit.timeit(\n",
    "        stmt='strassen_func(strassen_a, strassen_b)',\n",
    "        number=runs,  \n",
    "        globals=globals()\n",
    "    )\n",
    "    strassen_avg_time = execution_time_strassen / runs\n",
    "    strassen_results.append(strassen_avg_time)\n",
    "    print(f\"Average execution time for Strassen over {runs} runs: {strassen_avg_time} seconds\")\n",
    "\n",
    "print(\"Alpha Results:\", alpha_results)\n",
    "print(\"Naive Results:\", naive_results)\n",
    "print(\"Strassen Results:\", strassen_results)\n",
    "results_df = pd.DataFrame({\n",
    "        'Trial': sizes_to_be_tested,\n",
    "        'Alpha_Avg_Time': alpha_results,\n",
    "        'Naive_Avg_Time': naive_results,\n",
    "        'Strassen_Avg_Time': strassen_results\n",
    "    })\n",
    "\n",
    "results_df.to_csv('../results/results_float.csv', index=False)"
   ]
  },
  {
   "cell_type": "markdown",
   "metadata": {},
   "source": [
    "## Ints"
   ]
  },
  {
   "cell_type": "code",
   "execution_count": null,
   "metadata": {},
   "outputs": [],
   "source": [
    "sizes_to_be_tested = [2,3,4,5,9,10,11]\n",
    "random_seed_value = 2\n",
    "runs = 100\n",
    "\n",
    "alpha_results = []\n",
    "naive_results = []\n",
    "strassen_results = []\n",
    "\n",
    "for trial in sizes_to_be_tested:\n",
    "    print(f\"Trial number {trial}\")\n",
    "    size = (trial,trial,trial)\n",
    "    key = f\"{trial},{trial},{trial}\"\n",
    "\n",
    "    alpha_standard_factor = standard_factorizations[key]\n",
    "    naive_factor = generate_naive_factorization(size)\n",
    "    strassen_factor = _get_2x2x2_strassen()\n",
    "\n",
    "    n = _get_n_from_factors(alpha_standard_factor)\n",
    "    \n",
    "    (full_a,full_b) = _generate_random_int_matrices(size, random_seed_value)\n",
    "    a = block_split(full_a,n,n)\n",
    "    b = block_split(full_b,n,n)\n",
    "\n",
    "    if(trial%2 != 0):\n",
    "        padded_size = int(n+1)\n",
    "\n",
    "        offsets=[0,0]\n",
    "        array=full_a\n",
    "        print([slice(offsets[dim], offsets[dim] + array.shape[dim]) for dim in range(array.ndim)])\n",
    "        padded_array_a = pad(full_a, (padded_size,padded_size),[0,0])\n",
    "        padded_array_b = pad(full_b, (padded_size,padded_size),[0,0])\n",
    "\n",
    "        strassen_n = padded_size/(padded_size/2)\n",
    "        strassen_a = block_split(padded_array_a,strassen_n,strassen_n)\n",
    "        strassen_b = block_split(padded_array_b,strassen_n,strassen_n)\n",
    "    else:\n",
    "        strassen_n = n/(n/2)\n",
    "        strassen_a = block_split(full_a,strassen_n,strassen_n)\n",
    "        strassen_b = block_split(full_b,strassen_n,strassen_n)\n",
    "\n",
    "    alpha_standard_func = algorithm_from_factors(alpha_standard_factor)\n",
    "    naive_func = algorithm_from_factors(naive_factor)\n",
    "    strassen_func = algorithm_from_factors(strassen_factor)\n",
    "\n",
    "\n",
    "\n",
    "    execution_time_alpha = timeit.timeit(\n",
    "        stmt='alpha_standard_func(a, b)',\n",
    "        number=runs,  \n",
    "        globals=globals()\n",
    "    )\n",
    "    alpha_avg_time = execution_time_alpha / runs\n",
    "    alpha_results.append(alpha_avg_time)\n",
    "    print(f\"Average execution time for Alpha over {runs} runs: {alpha_avg_time} seconds\")\n",
    "\n",
    "    execution_time_naive = timeit.timeit(\n",
    "        stmt='naive_func(a, b)',\n",
    "        number=runs,  \n",
    "        globals=globals()\n",
    "    )\n",
    "    naive_avg_time = execution_time_naive / runs\n",
    "    naive_results.append(naive_avg_time)\n",
    "    print(f\"Average execution time for Naive over {runs} runs: {naive_avg_time} seconds\")\n",
    "\n",
    "    execution_time_strassen = timeit.timeit(\n",
    "        stmt='strassen_func(strassen_a, strassen_b)',\n",
    "        number=runs,  \n",
    "        globals=globals()\n",
    "    )\n",
    "    strassen_avg_time = execution_time_strassen / runs\n",
    "    strassen_results.append(strassen_avg_time)\n",
    "    print(f\"Average execution time for Strassen over {runs} runs: {strassen_avg_time} seconds\")\n",
    "\n",
    "print(\"Alpha Results:\", alpha_results)\n",
    "print(\"Naive Results:\", naive_results)\n",
    "print(\"Strassen Results:\", strassen_results)\n",
    "results_df = pd.DataFrame({\n",
    "        'Trial': sizes_to_be_tested,\n",
    "        'Alpha_Avg_Time': alpha_results,\n",
    "        'Naive_Avg_Time': naive_results,\n",
    "        'Strassen_Avg_Time': strassen_results\n",
    "    })\n",
    "\n",
    "results_df.to_csv('../results/results_int.csv', index=False)"
   ]
  }
 ],
 "metadata": {
  "kernelspec": {
   "display_name": ".venv",
   "language": "python",
   "name": "python3"
  },
  "language_info": {
   "codemirror_mode": {
    "name": "ipython",
    "version": 3
   },
   "file_extension": ".py",
   "mimetype": "text/x-python",
   "name": "python",
   "nbconvert_exporter": "python",
   "pygments_lexer": "ipython3",
   "version": "3.10.15"
  }
 },
 "nbformat": 4,
 "nbformat_minor": 2
}
