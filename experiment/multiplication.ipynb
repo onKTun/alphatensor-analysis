{
 "cells": [
  {
   "cell_type": "markdown",
   "metadata": {},
   "source": [
    "### Install Dependencies"
   ]
  },
  {
   "cell_type": "code",
   "execution_count": 2,
   "metadata": {},
   "outputs": [],
   "source": [
    "import numpy as np"
   ]
  },
  {
   "cell_type": "markdown",
   "metadata": {},
   "source": [
    "### Import files"
   ]
  },
  {
   "cell_type": "code",
   "execution_count": null,
   "metadata": {},
   "outputs": [],
   "source": [
    "standard_factorizations_path = \"/Users/kev/Documents/projects/alphatensor-analysis/algorithms/factorizations_r.npz\"\n",
    "mod2_factorizations_path = \"/Users/kev/Documents/projects/alphatensor-analysis/algorithms/factorizations_f2.npz\"\n",
    "\n",
    "standard_factorizations = dict(np.load(standard_factorizations_path, allow_pickle=True))\n",
    "\n",
    "mod2_factorizations = dict(np.load(mod2_factorizations_path, allow_pickle=True))"
   ]
  },
  {
   "cell_type": "code",
   "execution_count": null,
   "metadata": {},
   "outputs": [],
   "source": [
    "# Print available factorizations and their shapes.\n",
    "for key in standard_factorizations:\n",
    "  u, v, w = standard_factorizations[key]\n",
    "  rank = u.shape[-1]\n",
    "  assert rank == v.shape[-1] and rank == w.shape[-1]\n",
    "  print(f'{key}: rank={u.shape[-1]}')"
   ]
  },
  {
   "cell_type": "code",
   "execution_count": 18,
   "metadata": {},
   "outputs": [
    {
     "name": "stdout",
     "output_type": "stream",
     "text": [
      "<class 'numpy.ndarray'>\n"
     ]
    }
   ],
   "source": [
    "#testing\n",
    "from utils import *\n",
    "\n",
    "factors = standard_factorizations[\"2,2,2\"]\n",
    "\n",
    "print(type(factors))\n",
    "\n"
   ]
  },
  {
   "cell_type": "markdown",
   "metadata": {},
   "source": [
    "### Generate Naive Algorithm Factorization"
   ]
  },
  {
   "cell_type": "code",
   "execution_count": null,
   "metadata": {},
   "outputs": [
    {
     "name": "stdout",
     "output_type": "stream",
     "text": [
      "(array([[1., 0., 1., 0., 0., 0., 0., 0.],\n",
      "       [0., 1., 0., 1., 0., 0., 0., 0.],\n",
      "       [0., 0., 0., 0., 1., 0., 1., 0.],\n",
      "       [0., 0., 0., 0., 0., 1., 0., 1.]]), array([[1., 0., 0., 0., 1., 0., 0., 0.],\n",
      "       [0., 0., 1., 0., 0., 0., 1., 0.],\n",
      "       [0., 1., 0., 0., 0., 1., 0., 0.],\n",
      "       [0., 0., 0., 1., 0., 0., 0., 1.]]), array([[1., 1., 0., 0., 0., 0., 0., 0.],\n",
      "       [0., 0., 1., 1., 0., 0., 0., 0.],\n",
      "       [0., 0., 0., 0., 1., 1., 0., 0.],\n",
      "       [0., 0., 0., 0., 0., 0., 1., 1.]]))\n"
     ]
    }
   ],
   "source": [
    "# takes n,m,p dimensions of two matrices multiplied together\n",
    "# returns numpy.ndarray\n",
    "def generate_naive_factorization(n: int ,m: int, p:int):\n",
    "\n",
    "    multiplications = n * m *p\n",
    "    u = np.zeros(((n*m),multiplications ))\n",
    "    v = np.zeros(((m*p),multiplications ))\n",
    "    w = np.zeros(((n*p),multiplications ))\n",
    "    \n",
    "    u_flat = u.flatten()\n",
    "\n",
    "    \n",
    "    multiplication_count =0\n",
    "    c_index =0\n",
    "    #loop over matrix c row\n",
    "    for i in range(0,n):\n",
    "        for z in range(0,p):\n",
    "            for x in range(0,int(multiplications/(n*p))):\n",
    "                u[(i*m)+(x)][multiplication_count] = 1\n",
    "                v[z+(x*p)][multiplication_count]=1\n",
    "                w[c_index][multiplication_count] = 1\n",
    "\n",
    "                multiplication_count = multiplication_count + 1\n",
    "            c_index = c_index + 1\n",
    "    return(u,v,w)\n",
    "\n",
    "print(generate_naive_factorization(2,2,2))"
   ]
  }
 ],
 "metadata": {
  "kernelspec": {
   "display_name": ".venv",
   "language": "python",
   "name": "python3"
  },
  "language_info": {
   "codemirror_mode": {
    "name": "ipython",
    "version": 3
   },
   "file_extension": ".py",
   "mimetype": "text/x-python",
   "name": "python",
   "nbconvert_exporter": "python",
   "pygments_lexer": "ipython3",
   "version": "3.11.8"
  }
 },
 "nbformat": 4,
 "nbformat_minor": 2
}
