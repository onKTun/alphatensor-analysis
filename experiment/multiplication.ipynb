{
 "cells": [
  {
   "cell_type": "markdown",
   "metadata": {},
   "source": [
    "### Install Dependencies"
   ]
  },
  {
   "cell_type": "code",
   "execution_count": 2,
   "metadata": {},
   "outputs": [],
   "source": [
    "import numpy as np\n",
    "import timeit"
   ]
  },
  {
   "cell_type": "markdown",
   "metadata": {},
   "source": [
    "### Import files"
   ]
  },
  {
   "cell_type": "code",
   "execution_count": 3,
   "metadata": {},
   "outputs": [],
   "source": [
    "standard_factorizations_path = \"/Users/kev/Documents/projects/alphatensor-analysis/algorithms/factorizations_r.npz\"\n",
    "mod2_factorizations_path = \"/Users/kev/Documents/projects/alphatensor-analysis/algorithms/factorizations_f2.npz\"\n",
    "\n",
    "standard_factorizations = dict(np.load(standard_factorizations_path, allow_pickle=True))\n",
    "\n",
    "mod2_factorizations = dict(np.load(mod2_factorizations_path, allow_pickle=True))"
   ]
  },
  {
   "cell_type": "code",
   "execution_count": 5,
   "metadata": {},
   "outputs": [
    {
     "name": "stdout",
     "output_type": "stream",
     "text": [
      "2,2,2: rank=7\n",
      "2,2,3: rank=11\n",
      "2,2,4: rank=14\n",
      "2,2,5: rank=18\n",
      "2,3,3: rank=15\n",
      "2,3,4: rank=20\n",
      "2,3,5: rank=25\n",
      "2,4,4: rank=26\n",
      "2,4,5: rank=33\n",
      "2,5,5: rank=40\n",
      "3,3,3: rank=23\n",
      "3,3,4: rank=29\n",
      "3,3,5: rank=36\n",
      "3,4,4: rank=38\n",
      "3,4,5: rank=47\n",
      "3,5,5: rank=58\n",
      "4,4,4: rank=47\n",
      "4,4,5: rank=63\n",
      "4,5,5: rank=76\n",
      "5,5,5: rank=96\n"
     ]
    }
   ],
   "source": [
    "# Print available factorizations and their shapes.\n",
    "for key in mod2_factorizations:\n",
    "  naive_u, v, w = mod2_factorizations[key]\n",
    "  rank = naive_u.shape[-1]\n",
    "  assert rank == v.shape[-1] and rank == w.shape[-1]\n",
    "  print(f'{key}: rank={naive_u.shape[-1]}')"
   ]
  },
  {
   "cell_type": "markdown",
   "metadata": {},
   "source": [
    "### Generate Naive Algorithm Factorization"
   ]
  },
  {
   "cell_type": "code",
   "execution_count": null,
   "metadata": {},
   "outputs": [
    {
     "name": "stdout",
     "output_type": "stream",
     "text": [
      "(array([[1., 0., 1., 0., 0., 0., 0., 0.],\n",
      "       [0., 1., 0., 1., 0., 0., 0., 0.],\n",
      "       [0., 0., 0., 0., 1., 0., 1., 0.],\n",
      "       [0., 0., 0., 0., 0., 1., 0., 1.]]), array([[1., 0., 0., 0., 1., 0., 0., 0.],\n",
      "       [0., 0., 1., 0., 0., 0., 1., 0.],\n",
      "       [0., 1., 0., 0., 0., 1., 0., 0.],\n",
      "       [0., 0., 0., 1., 0., 0., 0., 1.]]), array([[1., 1., 0., 0., 0., 0., 0., 0.],\n",
      "       [0., 0., 1., 1., 0., 0., 0., 0.],\n",
      "       [0., 0., 0., 0., 1., 1., 0., 0.],\n",
      "       [0., 0., 0., 0., 0., 0., 1., 1.]]))\n"
     ]
    }
   ],
   "source": [
    "# takes n,m,p dimensions of two matrices multiplied together\n",
    "# returns numpy.ndarray\n",
    "def generate_naive_factorization(n: int ,m: int, p:int):\n",
    "\n",
    "    multiplications = n * m *p\n",
    "    u = np.zeros(((n*m),multiplications ))\n",
    "    v = np.zeros(((m*p),multiplications ))\n",
    "    w = np.zeros(((n*p),multiplications ))\n",
    "    \n",
    "    u_flat = u.flatten()\n",
    "\n",
    "    \n",
    "    multiplication_count =0\n",
    "    c_index =0\n",
    "    #loop over matrix c row\n",
    "    for i in range(0,n):\n",
    "        for z in range(0,p):\n",
    "            for x in range(0,int(multiplications/(n*p))):\n",
    "                u[(i*m)+(x)][multiplication_count] = 1\n",
    "                v[z+(x*p)][multiplication_count]=1\n",
    "                w[c_index][multiplication_count] = 1\n",
    "\n",
    "                multiplication_count = multiplication_count + 1\n",
    "            c_index = c_index + 1\n",
    "    return(u,v,w)"
   ]
  },
  {
   "cell_type": "markdown",
   "metadata": {},
   "source": [
    "### Multiply Matrices"
   ]
  },
  {
   "cell_type": "code",
   "execution_count": null,
   "metadata": {},
   "outputs": [],
   "source": [
    "def matrix_multiplication_using_factorization(matrix_a, matrix_b, u,v,w):\n",
    "  \"\"\"Multiplies two matrices using the provided factorization.\n",
    "\n",
    "  Args:\n",
    "    matrix_a: The first matrix (numpy array).\n",
    "    matrix_b: The second matrix (numpy array).\n",
    "    u,v,w: numpy array matrix factorizations\n",
    "\n",
    "  Returns:\n",
    "    The product of matrix_a and matrix_b.\n",
    "  \"\"\"\n",
    "\n",
    "  a_flat = matrix_a.flatten()\n",
    "  b_flat = matrix_b.flatten()\n",
    "\n",
    "  # Perform the matrix multiplication using the factorization\n",
    "  intermediate_a = np.dot(a_flat, u)\n",
    "  intermediate_b = np.dot(b_flat, v)\n",
    "  intermediate = (intermediate_a * intermediate_b)\n",
    "  result_flat = np.dot( w,intermediate)\n",
    "\n",
    "  # Reshape the result to the correct matrix dimensions\n",
    "  rows_a = matrix_a.shape[0]\n",
    "  cols_b = matrix_b.shape[1]\n",
    "  result_matrix = result_flat.reshape((rows_a, cols_b), order='f')\n",
    "\n",
    "  return result_matrix\n",
    "\n",
    "\n",
    "\n",
    "#np.allclose(product_matrix, standard_product)\n"
   ]
  },
  {
   "cell_type": "markdown",
   "metadata": {},
   "source": [
    "Timing functions"
   ]
  },
  {
   "cell_type": "code",
   "execution_count": 143,
   "metadata": {},
   "outputs": [],
   "source": [
    "matrix_a = np.random.rand(2, 2)\n",
    "matrix_b = np.random.rand(2, 2)\n",
    "(naive_u,naive_v,naive_w) = generate_naive_factorization(2,2,2)\n",
    "# Assuming you have a factorization for matrices of size (3, 4, 5)\n",
    "factorization_key = '2,2,2'\n",
    "(u,v,w) = standard_factorizations[factorization_key]\n"
   ]
  },
  {
   "cell_type": "code",
   "execution_count": 144,
   "metadata": {},
   "outputs": [
    {
     "name": "stdout",
     "output_type": "stream",
     "text": [
      "Average execution time for google over 10000 runs: 6.273499999952036e-05 seconds\n"
     ]
    }
   ],
   "source": [
    "\n",
    "execution_time = timeit.timeit(\n",
    "    stmt='matrix_multiplication_using_factorization(matrix_a, matrix_b, u,v,w)',\n",
    "    number=10000,  \n",
    "    globals=globals()\n",
    ")\n",
    "\n",
    "\n",
    "print(f\"Average execution time for google over 10000 runs: {execution_time / 1000} seconds\")\n"
   ]
  },
  {
   "cell_type": "code",
   "execution_count": 145,
   "metadata": {},
   "outputs": [
    {
     "name": "stdout",
     "output_type": "stream",
     "text": [
      "Average execution time for naive over 10000 runs: 5.008799999995972e-05 seconds\n"
     ]
    }
   ],
   "source": [
    "execution_time_naive = timeit.timeit(\n",
    "    stmt='matrix_multiplication_using_factorization(matrix_a, matrix_b, naive_u,naive_v,naive_w)',\n",
    "    number=10000,  \n",
    "    globals=globals()\n",
    ")\n",
    "print(f\"Average execution time for naive over 10000 runs: {execution_time_naive / 1000} seconds\")"
   ]
  },
  {
   "cell_type": "code",
   "execution_count": 148,
   "metadata": {},
   "outputs": [
    {
     "name": "stdout",
     "output_type": "stream",
     "text": [
      "[[[ 1  1  0  0  0 -1  1]\n",
      "  [ 0  0  1  0  0  0  1]\n",
      "  [ 0  0  0  1  0  1  0]\n",
      "  [ 1  0 -1  1  1  0  0]]\n",
      "\n",
      " [[ 1  0  0  1 -1  1  0]\n",
      "  [ 0  1  0  0  0  1  0]\n",
      "  [ 0  0  1  0  1  0  0]\n",
      "  [ 1 -1  1  0  0  0  1]]\n",
      "\n",
      " [[ 1  0  1  0  1  0 -1]\n",
      "  [ 0  0  0  1  1  0  0]\n",
      "  [ 0  1  0  0  0  0  1]\n",
      "  [ 1  1  0 -1  0  1  0]]]\n",
      "[[[ 0  1  1  0  1  1  0]\n",
      "  [ 0  0 -1  1  0  0  0]\n",
      "  [ 1  1  1  0  1  0  0]\n",
      "  [-1 -1 -1  0  0  0  1]]\n",
      "\n",
      " [[ 0  0  0  0  1  1  0]\n",
      "  [ 1  1  0  0  1  0  1]\n",
      "  [ 0  1  1  1  1  0  0]\n",
      "  [ 0  1  1  0  1  0  1]]\n",
      "\n",
      " [[ 0  0  0  1  0  1  0]\n",
      "  [ 0 -1  0  0  1 -1 -1]\n",
      "  [-1  1 -1 -1  0  0  0]\n",
      "  [ 1  0  0  0  0  0  1]]]\n"
     ]
    }
   ],
   "source": [
    "def _get_2x2x2_strassen() -> np.ndarray:\n",
    "  \"\"\"Returns [3, 4, 7] array, representing a rank-7 factorization of T_2.\"\"\"\n",
    "\n",
    "  # List of 7 factors, each of shape [3, 4].\n",
    "  factors = [[[1, 0, 0, 1], [1, 0, 0, 1], [1, 0, 0, 1]],\n",
    "             [[1, 0, 0, 0], [0, 1, 0, -1], [0, 0, 1, 1]],\n",
    "             [[0, 1, 0, -1], [0, 0, 1, 1], [1, 0, 0, 0]],\n",
    "             [[0, 0, 1, 1], [1, 0, 0, 0], [0, 1, 0, -1]],\n",
    "             [[0, 0, 0, 1], [-1, 0, 1, 0], [1, 1, 0, 0]],\n",
    "             [[-1, 0, 1, 0], [1, 1, 0, 0], [0, 0, 0, 1]],\n",
    "             [[1, 1, 0, 0], [0, 0, 0, 1], [-1, 0, 1, 0]]]\n",
    "\n",
    "  # Transpose into our standard format [3, S, R] = [3, 4, 7],\n",
    "  return np.transpose(np.array(factors, dtype=np.int32), [1, 2, 0])\n",
    "\n",
    "print(_get_2x2x2_strassen())\n",
    "\n",
    "print(standard_factorizations[\"2,2,2\"])"
   ]
  }
 ],
 "metadata": {
  "kernelspec": {
   "display_name": ".venv",
   "language": "python",
   "name": "python3"
  },
  "language_info": {
   "codemirror_mode": {
    "name": "ipython",
    "version": 3
   },
   "file_extension": ".py",
   "mimetype": "text/x-python",
   "name": "python",
   "nbconvert_exporter": "python",
   "pygments_lexer": "ipython3",
   "version": "3.10.15"
  }
 },
 "nbformat": 4,
 "nbformat_minor": 2
}
